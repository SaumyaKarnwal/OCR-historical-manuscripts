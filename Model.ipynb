{
 "cells": [
  {
   "cell_type": "code",
   "execution_count": 1,
   "id": "3354be33",
   "metadata": {},
   "outputs": [
    {
     "name": "stdout",
     "output_type": "stream",
     "text": [
      "Current Path: C:\\Users\\Saumya Karnwal\\Documents\\Computer Vision\\ocr\n",
      "New current working directory: C:\\Users\\Saumya Karnwal\\Documents\\Computer Vision\\ocr\\Padilla-Nobleza-virtuosa_testExtract.png\n"
     ]
    }
   ],
   "source": [
    "import os\n",
    "\n",
    "# Get the current working directory\n",
    "current_directory = os.getcwd()\n",
    "print(\"Current Path:\", current_directory)\n",
    "\n",
    "# Path to the file\n",
    "file_path = r\"C:\\Users\\Saumya Karnwal\\Documents\\Computer Vision\\ocr\\Padilla-Nobleza-virtuosa_testExtract.png\"\n",
    "\n",
    "\n",
    "# Change the current working directory to the directory containing the file\n",
    "os.chdir(file_path)\n",
    "\n",
    "# Print the new current working directory\n",
    "print(\"New current working directory:\", os.getcwd())\n"
   ]
  },
  {
   "cell_type": "code",
   "execution_count": 5,
   "id": "83e874dd",
   "metadata": {},
   "outputs": [
    {
     "name": "stdout",
     "output_type": "stream",
     "text": [
      "C:\\Users\\Saumya Karnwal\\Documents\\Computer Vision\\ocr\\Padilla-Nobleza-virtuosa_testExtract.png\n",
      "['36a97ff0669547f7855685404e5f890bs9mGkzKw7Z24tqwZ-0.png', '36a97ff0669547f7855685404e5f890bs9mGkzKw7Z24tqwZ-1.png', '36a97ff0669547f7855685404e5f890bs9mGkzKw7Z24tqwZ-10.png', '36a97ff0669547f7855685404e5f890bs9mGkzKw7Z24tqwZ-11.png', '36a97ff0669547f7855685404e5f890bs9mGkzKw7Z24tqwZ-12.png', '36a97ff0669547f7855685404e5f890bs9mGkzKw7Z24tqwZ-13.png', '36a97ff0669547f7855685404e5f890bs9mGkzKw7Z24tqwZ-14.png', '36a97ff0669547f7855685404e5f890bs9mGkzKw7Z24tqwZ-15.png', '36a97ff0669547f7855685404e5f890bs9mGkzKw7Z24tqwZ-2.png', '36a97ff0669547f7855685404e5f890bs9mGkzKw7Z24tqwZ-3.png', '36a97ff0669547f7855685404e5f890bs9mGkzKw7Z24tqwZ-4.png', '36a97ff0669547f7855685404e5f890bs9mGkzKw7Z24tqwZ-5.png', '36a97ff0669547f7855685404e5f890bs9mGkzKw7Z24tqwZ-6.png', '36a97ff0669547f7855685404e5f890bs9mGkzKw7Z24tqwZ-7.png', '36a97ff0669547f7855685404e5f890bs9mGkzKw7Z24tqwZ-8.png', '36a97ff0669547f7855685404e5f890bs9mGkzKw7Z24tqwZ-9.png', 'apple.jpg']\n"
     ]
    }
   ],
   "source": [
    "from PIL import Image\n",
    "\n",
    "# List all files in the directory\n",
    "files = os.listdir(file_path)\n",
    "\n",
    "# Filter out only the image files\n",
    "image_files = [f for f in files if f.endswith(('.png', '.jpg', '.jpeg', '.bmp', '.gif'))]\n",
    "\n",
    "print(file_path)\n",
    "print(image_files)"
   ]
  },
  {
   "cell_type": "code",
   "execution_count": 12,
   "id": "8088d935",
   "metadata": {},
   "outputs": [],
   "source": [
    "import cv2\n",
    "\n",
    "# Path to the new temp folder\n",
    "temp_folder = os.path.join(file_path, \"cleaned\")\n",
    "\n",
    "# Create the new temp folder if it doesn't exist\n",
    "if not os.path.exists(temp_folder):\n",
    "    os.makedirs(temp_folder)\n",
    "\n",
    "# Process each image\n",
    "for image_file in image_files:\n",
    "    \n",
    "    # Open the image\n",
    "    img = cv2.imread(os.path.join(file_path, image_file))\n",
    "    \n",
    "    gray_image = cv2.cvtColor(img, cv2.COLOR_BGR2GRAY)\n",
    "    thresh, im_bw = cv2.threshold(gray_image, 150, 255, cv2.THRESH_BINARY)\n",
    "    no_noise = cv2.GaussianBlur(im_bw, (5, 5), 0)\n",
    "    \n",
    "    # Save the preprocessed image with the same filename in the new temp folder\n",
    "    cv2.imwrite(os.path.join(temp_folder, image_file), no_noise)"
   ]
  },
  {
   "cell_type": "code",
   "execution_count": 1,
   "id": "4f966841",
   "metadata": {},
   "outputs": [],
   "source": [
    "# def valid_xml_char_ordinal(c):\n",
    "#     codepoint = ord(c)\n",
    "#     # conditions ordered by presumed frequency\n",
    "#     return (\n",
    "#         0x20 <= codepoint <= 0xD7FF or\n",
    "#         codepoint in (0x9, 0xA, 0xD) or\n",
    "#         0xE000 <= codepoint <= 0xFFFD or\n",
    "#         0x10000 <= codepoint <= 0x10FFFF\n",
    "#         )\n",
    "\n",
    "def valid_xml_char_ordinal(c):\n",
    "    codepoint = ord(c)\n",
    "    # conditions based on XML 1.0 specification\n",
    "    return (\n",
    "        codepoint == 0x9 or\n",
    "        codepoint == 0xA or\n",
    "        codepoint == 0xD or\n",
    "        (codepoint >= 0x20 and codepoint <= 0xD7FF) or\n",
    "        (codepoint >= 0xE000 and codepoint <= 0xFFFD) or\n",
    "        (codepoint >= 0x10000 and codepoint <= 0x10FFFF)\n",
    "    )\n"
   ]
  },
  {
   "cell_type": "code",
   "execution_count": 3,
   "id": "fe0d5724",
   "metadata": {},
   "outputs": [
    {
     "name": "stdout",
     "output_type": "stream",
     "text": [
      "Extracted text saved to extracted_text.docx\n"
     ]
    }
   ],
   "source": [
    "import os\n",
    "import pytesseract\n",
    "from pytesseract import Output\n",
    "from PIL import Image\n",
    "from docx import Document\n",
    "import string\n",
    "\n",
    "# Path to the directory containing the preprocessed images\n",
    "image_directory = r'C:\\Users\\Saumya Karnwal\\Documents\\Computer Vision\\ocr\\Padilla-Nobleza-virtuosa_testExtract.png\\cleaned'\n",
    "\n",
    "# Path to the Word file\n",
    "word_file_path = 'extracted_text.docx'\n",
    "\n",
    "# Perform OCR on each image in the directory\n",
    "custom_config = r'--oem 1 -l spa'\n",
    "doc = Document()\n",
    "for image_file in os.listdir(image_directory):\n",
    "    if image_file.endswith(('.png', '.jpg', '.jpeg', '.bmp', '.gif')):\n",
    "        image_path = os.path.join(image_directory, image_file)\n",
    "        extracted_text = pytesseract.image_to_string(Image.open(image_path), config=custom_config)\n",
    "        \n",
    "#         # Sanitize the extracted text\n",
    "#         sanitized_text = ''.join(filter(lambda x: x in string.printable, extracted_text))\n",
    "        \n",
    "#         # Encode as ASCII and ignore errors\n",
    "#         sanitized_text = sanitized_text.encode('ascii', 'ignore').decode('ascii')\n",
    "        cleaned_string = ''.join(c for c in extracted_text if valid_xml_char_ordinal(c))\n",
    "    \n",
    "        doc.add_paragraph(cleaned_string)\n",
    "        doc.add_paragraph(\"\")  # Add an empty paragraph for spacing between images\n",
    "\n",
    "#         print(extracted_text)\n",
    "\n",
    "# Save the Word document\n",
    "doc.save(word_file_path)\n",
    "\n",
    "print(f\"Extracted text saved to {word_file_path}\")\n"
   ]
  },
  {
   "cell_type": "code",
   "execution_count": null,
   "id": "585c0947",
   "metadata": {},
   "outputs": [],
   "source": []
  },
  {
   "cell_type": "code",
   "execution_count": null,
   "id": "57963382",
   "metadata": {},
   "outputs": [],
   "source": []
  },
  {
   "cell_type": "code",
   "execution_count": null,
   "id": "1fd71742",
   "metadata": {},
   "outputs": [],
   "source": []
  },
  {
   "cell_type": "code",
   "execution_count": null,
   "id": "b87ce190",
   "metadata": {},
   "outputs": [],
   "source": []
  }
 ],
 "metadata": {
  "kernelspec": {
   "display_name": "Python 3 (ipykernel)",
   "language": "python",
   "name": "python3"
  },
  "language_info": {
   "codemirror_mode": {
    "name": "ipython",
    "version": 3
   },
   "file_extension": ".py",
   "mimetype": "text/x-python",
   "name": "python",
   "nbconvert_exporter": "python",
   "pygments_lexer": "ipython3",
   "version": "3.9.12"
  }
 },
 "nbformat": 4,
 "nbformat_minor": 5
}
